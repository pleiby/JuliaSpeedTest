{
 "cells": [
  {
   "cell_type": "markdown",
   "metadata": {},
   "source": [
    "## Julia: optimize simulation of simple dynamical system\n",
    "Source: [user45893 at StackOverflow](https://stackoverflow.com/questions/32845996/julia-optimize-simulation-of-simple-dynamical-system) Sept. 2015"
   ]
  },
  {
   "cell_type": "code",
   "execution_count": 1,
   "metadata": {
    "collapsed": false
   },
   "outputs": [],
   "source": [
    "# Pkg.add(\"Devectorize\")"
   ]
  },
  {
   "cell_type": "code",
   "execution_count": 2,
   "metadata": {
    "collapsed": false
   },
   "outputs": [
    {
     "name": "stderr",
     "output_type": "stream",
     "text": [
      "\u001b[1m\u001b[36mINFO: \u001b[39m\u001b[22m\u001b[36mPrecompiling module Devectorize.\n",
      "\u001b[39m\n",
      "WARNING: deprecated syntax \"abstract FunKind\" at /Applications/JuliaPro-0.6.0.1.app/Contents/Resources/pkgs-0.6.0.1/v0.6/Devectorize/src/fun_traits.jl:7.\n",
      "Use \"abstract type FunKind end\" instead.\n",
      "\n",
      "WARNING: deprecated syntax \"abstract TMode\" at /Applications/JuliaPro-0.6.0.1.app/Contents/Resources/pkgs-0.6.0.1/v0.6/Devectorize/src/texpr.jl:13.\n",
      "Use \"abstract type TMode end\" instead.\n",
      "\n",
      "WARNING: deprecated syntax \"abstract TExpr\" at /Applications/JuliaPro-0.6.0.1.app/Contents/Resources/pkgs-0.6.0.1/v0.6/Devectorize/src/texpr.jl:22.\n",
      "Use \"abstract type TExpr end\" instead.\n",
      "\n",
      "WARNING: deprecated syntax \"abstract TEWise<:TExpr\" at /Applications/JuliaPro-0.6.0.1.app/Contents/Resources/pkgs-0.6.0.1/v0.6/Devectorize/src/texpr.jl:25.\n",
      "Use \"abstract type TEWise<:TExpr end\" instead.\n",
      "\n",
      "WARNING: deprecated syntax \"abstract TGeneralVar<:TEWise\" at /Applications/JuliaPro-0.6.0.1.app/Contents/Resources/pkgs-0.6.0.1/v0.6/Devectorize/src/texpr.jl:27.\n",
      "Use \"abstract type TGeneralVar<:TEWise end\" instead.\n",
      "\n",
      "WARNING: deprecated syntax \"abstract TScalar<:TEWise\" at /Applications/JuliaPro-0.6.0.1.app/Contents/Resources/pkgs-0.6.0.1/v0.6/Devectorize/src/texpr.jl:30.\n",
      "Use \"abstract type TScalar<:TEWise end\" instead.\n",
      "\n",
      "WARNING: deprecated syntax \"abstract TRef<:TEWise\" at /Applications/JuliaPro-0.6.0.1.app/Contents/Resources/pkgs-0.6.0.1/v0.6/Devectorize/src/texpr.jl:84.\n",
      "Use \"abstract type TRef<:TEWise end\" instead.\n",
      "\n",
      "WARNING: deprecated syntax \"typealias TIndex Union{Int,Symbol}\" at /Applications/JuliaPro-0.6.0.1.app/Contents/Resources/pkgs-0.6.0.1/v0.6/Devectorize/src/texpr.jl:86.\n",
      "Use \"const TIndex = Union{Int,Symbol}\" instead.\n",
      "\n",
      "WARNING: deprecated syntax \"abstract TRange\" at /Applications/JuliaPro-0.6.0.1.app/Contents/Resources/pkgs-0.6.0.1/v0.6/Devectorize/src/texpr.jl:87.\n",
      "Use \"abstract type TRange end\" instead.\n",
      "\n",
      "WARNING: deprecated syntax \"typealias TFunCall Union{TMap,TReduc,TColwiseReduc,TRowwiseReduc}\" at /Applications/JuliaPro-0.6.0.1.app/Contents/Resources/pkgs-0.6.0.1/v0.6/Devectorize/src/texpr.jl:198.\n",
      "Use \"const TFunCall = Union{TMap,TReduc,TColwiseReduc,TRowwiseReduc}\" instead.\n",
      "\n",
      "WARNING: deprecated syntax \"typealias TRValue Union{TEWise,TFunCall}\" at /Applications/JuliaPro-0.6.0.1.app/Contents/Resources/pkgs-0.6.0.1/v0.6/Devectorize/src/texpr.jl:217.\n",
      "Use \"const TRValue = Union{TEWise,TFunCall}\" instead.\n",
      "\n",
      "WARNING: deprecated syntax \"typealias TLValue Union{TGeneralVar,TRef}\" at /Applications/JuliaPro-0.6.0.1.app/Contents/Resources/pkgs-0.6.0.1/v0.6/Devectorize/src/texpr.jl:218.\n",
      "Use \"const TLValue = Union{TGeneralVar,TRef}\" instead.\n",
      "WARNING: Compat.ASCIIString is deprecated, use String instead.\n",
      "  likely near /Applications/JuliaPro-0.6.0.1.app/Contents/Resources/pkgs-0.6.0.1/v0.6/Devectorize/src/texpr.jl:293\n",
      "WARNING: Compat.ASCIIString is deprecated, use String instead.\n",
      "  likely near /Applications/JuliaPro-0.6.0.1.app/Contents/Resources/pkgs-0.6.0.1/v0.6/Devectorize/src/texpr.jl:293\n",
      "WARNING: Compat.ASCIIString is deprecated, use String instead.\n",
      "  likely near /Applications/JuliaPro-0.6.0.1.app/Contents/Resources/pkgs-0.6.0.1/v0.6/Devectorize/src/texpr.jl:293\n",
      "\n",
      "WARNING: deprecated syntax \"abstract EvalContext\" at /Applications/JuliaPro-0.6.0.1.app/Contents/Resources/pkgs-0.6.0.1/v0.6/Devectorize/src/compile_base.jl:20.\n",
      "Use \"abstract type EvalContext end\" instead.\n",
      "\n",
      "WARNING: deprecated syntax \"abstract DirectContext<:EvalContext\" at /Applications/JuliaPro-0.6.0.1.app/Contents/Resources/pkgs-0.6.0.1/v0.6/Devectorize/src/compile_base.jl:23.\n",
      "Use \"abstract type DirectContext<:EvalContext end\" instead.\n",
      "\n",
      "WARNING: deprecated syntax \"abstract OffshoreContext<:EvalContext\" at /Applications/JuliaPro-0.6.0.1.app/Contents/Resources/pkgs-0.6.0.1/v0.6/Devectorize/src/compile_base.jl:26.\n",
      "Use \"abstract type OffshoreContext<:EvalContext end\" instead.\n"
     ]
    }
   ],
   "source": [
    "using Devectorize # Julia framework, which provides macros and functions to de-vectorize a vector expression. \n",
    "# Description: (https://github.com/lindahua/Devectorize.jl)\n",
    "# With Devectorize, users can write computations in high-level vectorized way and at the same time enjoying the high run-time performance of de-vectorized loops. \n",
    "# Devectorize\" \"automatically translates vectorized expressions into faster tight-loops, which often results in 2x - 8x performance gain.\"\n",
    "# Commenter suggests that this is not the case, and better to just write loops if speed is critical"
   ]
  },
  {
   "cell_type": "code",
   "execution_count": 3,
   "metadata": {
    "collapsed": false
   },
   "outputs": [
    {
     "name": "stderr",
     "output_type": "stream",
     "text": [
      "WARNING: Compat.ASCIIString is deprecated, use String instead.\n",
      "  likely near In[3]:1\n",
      "WARNING: Compat.ASCIIString is deprecated, use String instead.\n",
      "  likely near In[3]:1\n",
      "WARNING: Compat.ASCIIString is deprecated, use String instead.\n",
      "  likely near In[3]:1\n",
      "\u001b[1m\u001b[33mWARNING: \u001b[39m\u001b[22m\u001b[33mArray{T}(::Type{T}, m::Int) is deprecated, use Array{T}(m) instead.\u001b[39m\n",
      "Stacktrace:\n",
      " [1] \u001b[1mdepwarn\u001b[22m\u001b[22m\u001b[1m(\u001b[22m\u001b[22m::String, ::Symbol\u001b[1m)\u001b[22m\u001b[22m at \u001b[1m./deprecated.jl:70\u001b[22m\u001b[22m\n",
      " [2] \u001b[1mArray\u001b[22m\u001b[22m\u001b[1m(\u001b[22m\u001b[22m::Type{Devectorize.TExpr}, ::Int64\u001b[1m)\u001b[22m\u001b[22m at \u001b[1m./deprecated.jl:57\u001b[22m\u001b[22m\n",
      " [3] \u001b[1mcheck_funcall_args\u001b[22m\u001b[22m\u001b[1m(\u001b[22m\u001b[22m::Devectorize.TVar, ::Vararg{Devectorize.TExpr,N} where N\u001b[1m)\u001b[22m\u001b[22m at \u001b[1m/Applications/JuliaPro-0.6.0.1.app/Contents/Resources/pkgs-0.6.0.1/v0.6/Devectorize/src/texpr.jl:416\u001b[22m\u001b[22m\n",
      " [4] \u001b[1mtcall\u001b[22m\u001b[22m\u001b[1m(\u001b[22m\u001b[22m::Symbol, ::Array{Devectorize.TEWise,1}\u001b[1m)\u001b[22m\u001b[22m at \u001b[1m/Applications/JuliaPro-0.6.0.1.app/Contents/Resources/pkgs-0.6.0.1/v0.6/Devectorize/src/texpr.jl:463\u001b[22m\u001b[22m\n",
      " [5] \u001b[1mtcall\u001b[22m\u001b[22m\u001b[1m(\u001b[22m\u001b[22m::Expr\u001b[1m)\u001b[22m\u001b[22m at \u001b[1m/Applications/JuliaPro-0.6.0.1.app/Contents/Resources/pkgs-0.6.0.1/v0.6/Devectorize/src/texpr.jl:496\u001b[22m\u001b[22m\n",
      " [6] \u001b[1mtexpr\u001b[22m\u001b[22m\u001b[1m(\u001b[22m\u001b[22m::Expr\u001b[1m)\u001b[22m\u001b[22m at \u001b[1m/Applications/JuliaPro-0.6.0.1.app/Contents/Resources/pkgs-0.6.0.1/v0.6/Devectorize/src/texpr.jl:607\u001b[22m\u001b[22m\n",
      " [7] \u001b[1m_collect\u001b[22m\u001b[22m\u001b[1m(\u001b[22m\u001b[22m::Array{Any,1}, ::Base.Generator{Array{Any,1},Devectorize.#texpr}, ::Base.EltypeUnknown, ::Base.HasShape\u001b[1m)\u001b[22m\u001b[22m at \u001b[1m./array.jl:454\u001b[22m\u001b[22m\n",
      " [8] \u001b[1mtcall\u001b[22m\u001b[22m\u001b[1m(\u001b[22m\u001b[22m::Expr\u001b[1m)\u001b[22m\u001b[22m at \u001b[1m/Applications/JuliaPro-0.6.0.1.app/Contents/Resources/pkgs-0.6.0.1/v0.6/Devectorize/src/texpr.jl:496\u001b[22m\u001b[22m\n",
      " [9] \u001b[1mtexpr\u001b[22m\u001b[22m\u001b[1m(\u001b[22m\u001b[22m::Expr\u001b[1m)\u001b[22m\u001b[22m at \u001b[1m/Applications/JuliaPro-0.6.0.1.app/Contents/Resources/pkgs-0.6.0.1/v0.6/Devectorize/src/texpr.jl:607\u001b[22m\u001b[22m\n",
      " [10] \u001b[1mcollect_to!\u001b[22m\u001b[22m\u001b[1m(\u001b[22m\u001b[22m::Array{Devectorize.TVar,1}, ::Base.Generator{Array{Any,1},Devectorize.#texpr}, ::Int64, ::Int64\u001b[1m)\u001b[22m\u001b[22m at \u001b[1m./array.jl:474\u001b[22m\u001b[22m\n",
      " [11] \u001b[1m_collect\u001b[22m\u001b[22m\u001b[1m(\u001b[22m\u001b[22m::Array{Any,1}, ::Base.Generator{Array{Any,1},Devectorize.#texpr}, ::Base.EltypeUnknown, ::Base.HasShape\u001b[1m)\u001b[22m\u001b[22m at \u001b[1m./array.jl:455\u001b[22m\u001b[22m\n",
      " [12] \u001b[1mtcall\u001b[22m\u001b[22m\u001b[1m(\u001b[22m\u001b[22m::Expr\u001b[1m)\u001b[22m\u001b[22m at \u001b[1m/Applications/JuliaPro-0.6.0.1.app/Contents/Resources/pkgs-0.6.0.1/v0.6/Devectorize/src/texpr.jl:496\u001b[22m\u001b[22m\n",
      " [13] \u001b[1mtexpr\u001b[22m\u001b[22m\u001b[1m(\u001b[22m\u001b[22m::Expr\u001b[1m)\u001b[22m\u001b[22m at \u001b[1m/Applications/JuliaPro-0.6.0.1.app/Contents/Resources/pkgs-0.6.0.1/v0.6/Devectorize/src/texpr.jl:607\u001b[22m\u001b[22m (repeats 2 times)\n",
      " [14] \u001b[1mcompile\u001b[22m\u001b[22m\u001b[1m(\u001b[22m\u001b[22m::Devectorize.ScalarContext, ::Expr\u001b[1m)\u001b[22m\u001b[22m at \u001b[1m/Applications/JuliaPro-0.6.0.1.app/Contents/Resources/pkgs-0.6.0.1/v0.6/Devectorize/src/compile_base.jl:38\u001b[22m\u001b[22m\n",
      " [15] \u001b[1m@devec\u001b[22m\u001b[22m\u001b[1m(\u001b[22m\u001b[22m::ANY\u001b[1m)\u001b[22m\u001b[22m at \u001b[1m/Applications/JuliaPro-0.6.0.1.app/Contents/Resources/pkgs-0.6.0.1/v0.6/Devectorize/src/scalar_backend.jl:823\u001b[22m\u001b[22m\n",
      " [16] \u001b[1minclude_string\u001b[22m\u001b[22m\u001b[1m(\u001b[22m\u001b[22m::String, ::String\u001b[1m)\u001b[22m\u001b[22m at \u001b[1m./loading.jl:515\u001b[22m\u001b[22m\n",
      " [17] \u001b[1mexecute_request\u001b[22m\u001b[22m\u001b[1m(\u001b[22m\u001b[22m::ZMQ.Socket, ::IJulia.Msg\u001b[1m)\u001b[22m\u001b[22m at \u001b[1m/Applications/JuliaPro-0.6.0.1.app/Contents/Resources/pkgs-0.6.0.1/v0.6/IJulia/src/execute_request.jl:160\u001b[22m\u001b[22m\n",
      " [18] \u001b[1meventloop\u001b[22m\u001b[22m\u001b[1m(\u001b[22m\u001b[22m::ZMQ.Socket\u001b[1m)\u001b[22m\u001b[22m at \u001b[1m/Applications/JuliaPro-0.6.0.1.app/Contents/Resources/pkgs-0.6.0.1/v0.6/IJulia/src/eventloop.jl:8\u001b[22m\u001b[22m\n",
      " [19] \u001b[1m(::IJulia.##11#14)\u001b[22m\u001b[22m\u001b[1m(\u001b[22m\u001b[22m\u001b[1m)\u001b[22m\u001b[22m at \u001b[1m./task.jl:335\u001b[22m\u001b[22m\n",
      "while loading In[3], in expression starting on line 1\n"
     ]
    },
    {
     "data": {
      "text/plain": [
       "train_network (generic function with 1 method)"
      ]
     },
     "execution_count": 3,
     "metadata": {},
     "output_type": "execute_result"
    }
   ],
   "source": [
    "function train_network(A, T, Of, cs, dt)\n",
    "    N, I = size(T)\n",
    "    z    = zeros(I)\n",
    "    r    = zeros(N)\n",
    "\n",
    "    @inbounds for t in 1:size(cs, 1)  #  skip such bounds checks for speed/SIMD (https://docs.julialang.org/en/latest/devdocs/boundscheck/)\n",
    "        # precompute\n",
    "        Az  = A*z\n",
    "        Ofr = Of*r\n",
    "\n",
    "        # compute training signal\n",
    "        @devec z += dt.*(Az + cs[t] - 0.5.*z)\n",
    "        I_teach   = T*(Az + cs[t])\n",
    "        Tz        = T*z\n",
    "\n",
    "        # rate updates\n",
    "        @devec r += dt.*(I_teach - Ofr - 0.1.*r)\n",
    "\n",
    "        # weight updates\n",
    "        for i in 1:I\n",
    "            @devec T[:, i] += dt.*1e-3.*(z[i].*r - T[:, i])\n",
    "        end\n",
    "\n",
    "        for n in 1:N\n",
    "            @devec Of[:, n] += dt.*1e-3.*(Tz.*r[n] - Of[:, n])     \n",
    "        end\n",
    "    end\n",
    "end"
   ]
  },
  {
   "cell_type": "code",
   "execution_count": 4,
   "metadata": {
    "collapsed": false
   },
   "outputs": [
    {
     "data": {
      "text/plain": [
       "2000001×2 Array{Float64,2}:\n",
       "  0.590297    -1.3061   \n",
       "  0.372789     1.56986  \n",
       "  0.946243     0.924054 \n",
       " -0.759128     0.341176 \n",
       "  0.924678    -2.55936  \n",
       "  0.00770045  -1.2796   \n",
       " -1.03795     -0.679051 \n",
       " -0.687983     0.885255 \n",
       "  0.605628     0.435501 \n",
       " -0.448274     0.280454 \n",
       "  0.130458     0.502419 \n",
       "  0.21645     -0.509237 \n",
       " -0.966325     0.133707 \n",
       "  ⋮                     \n",
       "  0.860585    -0.199513 \n",
       " -0.885967    -0.823579 \n",
       "  0.0974658   -0.140565 \n",
       "  0.593716     0.179675 \n",
       " -0.480358    -0.257579 \n",
       " -0.11323      0.0543308\n",
       " -0.472055    -0.131496 \n",
       "  0.916498    -0.0729267\n",
       " -0.485756    -0.329036 \n",
       " -0.231642     0.666361 \n",
       " -0.670648    -1.51886  \n",
       " -0.237538    -0.421701 "
      ]
     },
     "execution_count": 4,
     "metadata": {},
     "output_type": "execute_result"
    }
   ],
   "source": [
    "# init parameters\n",
    "N, I = 20, 2\n",
    "dt  = 1e-3\n",
    "\n",
    "# init weights\n",
    "T = rand(N, I)*N\n",
    "A = rand(I, I)\n",
    "Of = rand(N, N)/N\n",
    "\n",
    "# simulation time & input\n",
    "sim_T = 2000\n",
    "ts = 0:dt:sim_T\n",
    "cs = randn(size(ts, 1), I)"
   ]
  },
  {
   "cell_type": "markdown",
   "metadata": {},
   "source": [
    "Test: Timing the network (2.000.000 steps) with use of @devec"
   ]
  },
  {
   "cell_type": "code",
   "execution_count": 5,
   "metadata": {
    "collapsed": false
   },
   "outputs": [
    {
     "name": "stderr",
     "output_type": "stream",
     "text": [
      "\u001b[1m\u001b[33mWARNING: \u001b[39m\u001b[22m\u001b[33mArray{T, N}(::Type{T}, d::NTuple{N, Int}) is deprecated, use Array{T}(d) instead.\u001b[39m\n",
      "Stacktrace:\n",
      " [1] \u001b[1mdepwarn\u001b[22m\u001b[22m\u001b[1m(\u001b[22m\u001b[22m::String, ::Symbol\u001b[1m)\u001b[22m\u001b[22m at \u001b[1m./deprecated.jl:70\u001b[22m\u001b[22m\n",
      " [2] \u001b[1mArray\u001b[22m\u001b[22m\u001b[1m(\u001b[22m\u001b[22m::Type{Float64}, ::Tuple{Int64}\u001b[1m)\u001b[22m\u001b[22m at \u001b[1m./deprecated.jl:57\u001b[22m\u001b[22m\n",
      " [3] \u001b[1mtrain_network\u001b[22m\u001b[22m\u001b[1m(\u001b[22m\u001b[22m::Array{Float64,2}, ::Array{Float64,2}, ::Array{Float64,2}, ::Array{Float64,2}, ::Float64\u001b[1m)\u001b[22m\u001b[22m at \u001b[1m./In[3]:12\u001b[22m\u001b[22m\n",
      " [4] \u001b[1minclude_string\u001b[22m\u001b[22m\u001b[1m(\u001b[22m\u001b[22m::String, ::String\u001b[1m)\u001b[22m\u001b[22m at \u001b[1m./loading.jl:515\u001b[22m\u001b[22m\n",
      " [5] \u001b[1mexecute_request\u001b[22m\u001b[22m\u001b[1m(\u001b[22m\u001b[22m::ZMQ.Socket, ::IJulia.Msg\u001b[1m)\u001b[22m\u001b[22m at \u001b[1m/Applications/JuliaPro-0.6.0.1.app/Contents/Resources/pkgs-0.6.0.1/v0.6/IJulia/src/execute_request.jl:160\u001b[22m\u001b[22m\n",
      " [6] \u001b[1meventloop\u001b[22m\u001b[22m\u001b[1m(\u001b[22m\u001b[22m::ZMQ.Socket\u001b[1m)\u001b[22m\u001b[22m at \u001b[1m/Applications/JuliaPro-0.6.0.1.app/Contents/Resources/pkgs-0.6.0.1/v0.6/IJulia/src/eventloop.jl:8\u001b[22m\u001b[22m\n",
      " [7] \u001b[1m(::IJulia.##11#14)\u001b[22m\u001b[22m\u001b[1m(\u001b[22m\u001b[22m\u001b[1m)\u001b[22m\u001b[22m at \u001b[1m./task.jl:335\u001b[22m\u001b[22m\n",
      "while loading In[5], in expression starting on line 237\n",
      "\u001b[1m\u001b[33mWARNING: \u001b[39m\u001b[22m\u001b[33mArray{T, N}(::Type{T}, d::NTuple{N, Int}) is deprecated, use Array{T}(d) instead.\u001b[39m\n",
      "Stacktrace:\n",
      " [1] \u001b[1mdepwarn\u001b[22m\u001b[22m\u001b[1m(\u001b[22m\u001b[22m::String, ::Symbol\u001b[1m)\u001b[22m\u001b[22m at \u001b[1m./deprecated.jl:70\u001b[22m\u001b[22m\n",
      " [2] \u001b[1mArray\u001b[22m\u001b[22m\u001b[1m(\u001b[22m\u001b[22m::Type{Float64}, ::Tuple{Int64}\u001b[1m)\u001b[22m\u001b[22m at \u001b[1m./deprecated.jl:57\u001b[22m\u001b[22m\n",
      " [3] \u001b[1mtrain_network\u001b[22m\u001b[22m\u001b[1m(\u001b[22m\u001b[22m::Array{Float64,2}, ::Array{Float64,2}, ::Array{Float64,2}, ::Array{Float64,2}, ::Float64\u001b[1m)\u001b[22m\u001b[22m at \u001b[1m./In[3]:17\u001b[22m\u001b[22m\n",
      " [4] \u001b[1minclude_string\u001b[22m\u001b[22m\u001b[1m(\u001b[22m\u001b[22m::String, ::String\u001b[1m)\u001b[22m\u001b[22m at \u001b[1m./loading.jl:515\u001b[22m\u001b[22m\n",
      " [5] \u001b[1mexecute_request\u001b[22m\u001b[22m\u001b[1m(\u001b[22m\u001b[22m::ZMQ.Socket, ::IJulia.Msg\u001b[1m)\u001b[22m\u001b[22m at \u001b[1m/Applications/JuliaPro-0.6.0.1.app/Contents/Resources/pkgs-0.6.0.1/v0.6/IJulia/src/execute_request.jl:160\u001b[22m\u001b[22m\n",
      " [6] \u001b[1meventloop\u001b[22m\u001b[22m\u001b[1m(\u001b[22m\u001b[22m::ZMQ.Socket\u001b[1m)\u001b[22m\u001b[22m at \u001b[1m/Applications/JuliaPro-0.6.0.1.app/Contents/Resources/pkgs-0.6.0.1/v0.6/IJulia/src/eventloop.jl:8\u001b[22m\u001b[22m\n",
      " [7] \u001b[1m(::IJulia.##11#14)\u001b[22m\u001b[22m\u001b[1m(\u001b[22m\u001b[22m\u001b[1m)\u001b[22m\u001b[22m at \u001b[1m./task.jl:335\u001b[22m\u001b[22m\n",
      "while loading In[5], in expression starting on line 237\n"
     ]
    },
    {
     "ename": "LoadError",
     "evalue": "\u001b[91mInterruptException:\u001b[39m",
     "output_type": "error",
     "traceback": [
      "\u001b[91mInterruptException:\u001b[39m",
      "",
      "Stacktrace:",
      " [1] \u001b[1mdepwarn\u001b[22m\u001b[22m\u001b[1m(\u001b[22m\u001b[22m::String, ::Symbol\u001b[1m)\u001b[22m\u001b[22m at \u001b[1m./deprecated.jl:71\u001b[22m\u001b[22m",
      " [2] \u001b[1mArray\u001b[22m\u001b[22m\u001b[1m(\u001b[22m\u001b[22m::Type{Float64}, ::Tuple{Int64}\u001b[1m)\u001b[22m\u001b[22m at \u001b[1m./deprecated.jl:57\u001b[22m\u001b[22m",
      " [3] \u001b[1mtrain_network\u001b[22m\u001b[22m\u001b[1m(\u001b[22m\u001b[22m::Array{Float64,2}, ::Array{Float64,2}, ::Array{Float64,2}, ::Array{Float64,2}, ::Float64\u001b[1m)\u001b[22m\u001b[22m at \u001b[1m./In[3]:17\u001b[22m\u001b[22m"
     ]
    }
   ],
   "source": [
    "@time train_network(A, T, Of, cs, dt)"
   ]
  },
  {
   "cell_type": "markdown",
   "metadata": {},
   "source": [
    "yields the timings\n",
    "\n",
    "3.420486 seconds (26.12 M allocations: 2.299 GB, 6.65% gc time)"
   ]
  },
  {
   "cell_type": "markdown",
   "metadata": {},
   "source": [
    "### Update 1\n",
    "\n",
    "Following the advice by David Sanders I got rid of the devec macro and wrote out the loops. This indeed reduces array allocations and boosts performance by about 25%, here are the new numbers:\n",
    "\n",
    "2.648113 seconds (18.00 M allocations: 1.669 GB, 5.60% gc time)\n",
    "The smaller the network size, the bigger the boost. A gist of the updated simulation code can be found here.\n",
    "\n",
    "### Update 2\n",
    "\n",
    "Much of the memory allocations are due to the matrix-vector products. So, in order to get rid of those I replaced those products by an in-place BLAS operation, BLAS.genv!, which reduces timings by another 25% and memory allocation by 90%,\n",
    "\n",
    "1.990031 seconds (2.00 M allocations: 152.589 MB, 0.69% gc time)\n",
    "Updated code here.\n",
    "\n",
    "### Update 3\n",
    "\n",
    "The largest rank-1 update can also be replaced by two calls to in-place BLAS functions, namely BLAS.scal! for scaling and BLAS.ger! for a rank-1 update. The caveat is that both calls are fairly slow if more then one thread is used (problem with OpenBLAS?), so it is best to set\n",
    "\n",
    "blas_set_num_threads(1)\n",
    "There is a 15% gain in timings for a network size of 20, and a gain of 50% for a network of size 50. There are no more memory allocations, and the new timings are\n",
    "\n",
    "1.638287 seconds (11 allocations: 1.266 KB)\n",
    "Again, the updated code can be found here.\n",
    "\n",
    "### Update 4\n",
    "\n",
    "I wrote a basic Cython script to compare the results so far. The main difference is that I do not use any calls to BLAS but have loops: Injecting low-level BLAS calls is a pain in Cython, and calls to numpy dot have too much overhead for small network sizes (I tried...). Timings are\n",
    "\n",
    "CPU times: user 3.46 s, sys: 6 ms, total: 3.47 s, Wall time: 3.47 s\n",
    "which is roughly the same as the original version (from which, so far, 50% is shaved off)."
   ]
  },
  {
   "cell_type": "code",
   "execution_count": 42,
   "metadata": {
    "collapsed": false
   },
   "outputs": [
    {
     "data": {
      "text/plain": [
       "(20,20)"
      ]
     },
     "execution_count": 42,
     "metadata": {},
     "output_type": "execute_result"
    }
   ],
   "source": [
    "r    = zeros(N)\n",
    "z    = zeros(I)\n",
    "N, I = size(T)\n",
    "size(Of)"
   ]
  },
  {
   "cell_type": "code",
   "execution_count": 44,
   "metadata": {
    "collapsed": false
   },
   "outputs": [
    {
     "data": {
      "text/plain": [
       "train_network1 (generic function with 1 method)"
      ]
     },
     "execution_count": 44,
     "metadata": {},
     "output_type": "execute_result"
    }
   ],
   "source": [
    "function train_network1(A, T, Of, cs, dt)\n",
    "    N, I = size(T)\n",
    "    z    = zeros(I)\n",
    "    r    = zeros(N)\n",
    "\n",
    "    @inbounds for t in 1:size(cs, 1)  #  skip such bounds checks for speed/SIMD (https://docs.julialang.org/en/latest/devdocs/boundscheck/)\n",
    "        # precompute\n",
    "        Az  = A*z\n",
    "        Ofr = Of*r\n",
    "\n",
    "        # compute training signal\n",
    "        # @devec z += dt.*(Az + cs[t] - 0.5.*z)\n",
    "        for i in 1:I\n",
    "            z[i] += dt*(Az[i] + cs[t,i] - 0.5.*z[i])\n",
    "        end\n",
    "            \n",
    "        I_teach   = T*(Az + cs[t])\n",
    "        Tz        = T*z\n",
    "\n",
    "        # rate updates\n",
    "        # @devec r += dt.*(I_teach - Ofr - 0.1.*r)\n",
    "        for i in 1:N\n",
    "            r[i] += dt*(I_teach[i] - Ofr[i] - 0.1.*r[i])\n",
    "        end\n",
    "\n",
    "        # weight updates\n",
    "        for i in 1:I\n",
    "            # @devec T[:, i] += dt.*1e-3.*(z[i].*r - T[:, i])\n",
    "            for j in 1:N\n",
    "                T[j, i] += dt*1e-3*(z[i].*r[j] - T[j, i])\n",
    "            end\n",
    "        end\n",
    "\n",
    "        for n in 1:N\n",
    "            # @devec Of[:, n] += dt.*1e-3.*(Tz.*r[n] - Of[:, n])\n",
    "            for j in 1:N\n",
    "                Of[j, n] += dt*1e-3*(Tz[j]*r[n] - Of[j, n])\n",
    "            end\n",
    "        end\n",
    "    end\n",
    "end"
   ]
  },
  {
   "cell_type": "code",
   "execution_count": 45,
   "metadata": {
    "collapsed": false
   },
   "outputs": [
    {
     "name": "stdout",
     "output_type": "stream",
     "text": [
      " 33.031152 seconds (18.03 M allocations: 1.670 GB, 0.44% gc time)\n"
     ]
    }
   ],
   "source": [
    "@time train_network1(A, T, Of, cs, dt)"
   ]
  },
  {
   "cell_type": "code",
   "execution_count": null,
   "metadata": {
    "collapsed": true
   },
   "outputs": [],
   "source": []
  }
 ],
 "metadata": {
  "anaconda-cloud": {},
  "kernelspec": {
   "display_name": "Julia 0.6.0",
   "language": "julia",
   "name": "julia-0.6"
  },
  "language_info": {
   "file_extension": ".jl",
   "mimetype": "application/julia",
   "name": "julia",
   "version": "0.6.0"
  }
 },
 "nbformat": 4,
 "nbformat_minor": 1
}
